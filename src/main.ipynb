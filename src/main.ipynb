{
 "cells": [
  {
   "cell_type": "markdown",
   "id": "8a877a7a",
   "metadata": {},
   "source": [
    "# Normalización de textos\n",
    "- Sara Echeverría 21371"
   ]
  },
  {
   "cell_type": "code",
   "execution_count": 1,
   "id": "de2607c3",
   "metadata": {},
   "outputs": [],
   "source": [
    "import re"
   ]
  },
  {
   "cell_type": "code",
   "execution_count": 2,
   "id": "64c2dccd",
   "metadata": {},
   "outputs": [],
   "source": [
    "with open(\"data/escher_comments.txt\", encoding=\"utf-8\") as f:\n",
    "    lines = [re.sub(r'[^\\w\\s]', '', l.lower()) for l in f if l.strip()]"
   ]
  }
 ],
 "metadata": {
  "kernelspec": {
   "display_name": "myenv",
   "language": "python",
   "name": "myenv"
  },
  "language_info": {
   "codemirror_mode": {
    "name": "ipython",
    "version": 3
   },
   "file_extension": ".py",
   "mimetype": "text/x-python",
   "name": "python",
   "nbconvert_exporter": "python",
   "pygments_lexer": "ipython3",
   "version": "3.9.13"
  }
 },
 "nbformat": 4,
 "nbformat_minor": 5
}
