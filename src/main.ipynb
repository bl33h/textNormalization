{
 "cells": [
  {
   "cell_type": "markdown",
   "id": "8a877a7a",
   "metadata": {},
   "source": [
    "# Normalización de textos\n",
    "- Sara Echeverría 21371\n",
    "- Repositorio: https://github.com/bl33h/textNormalization"
   ]
  },
  {
   "cell_type": "code",
   "execution_count": null,
   "id": "de2607c3",
   "metadata": {},
   "outputs": [],
   "source": [
    "import re\n",
    "import nltk\n",
    "import numpy as np\n",
    "import seaborn as sns\n",
    "import matplotlib.pyplot as plt\n",
    "from nltk.stem import SnowballStemmer\n",
    "from nltk.tokenize import word_tokenize\n",
    "from nltk.metrics.distance import edit_distance\n",
    "from sklearn.cluster import AgglomerativeClustering\n",
    "from tokenizers import Tokenizer, models, pre_tokenizers, trainers"
   ]
  },
  {
   "cell_type": "code",
   "execution_count": 2,
   "id": "a0af8202",
   "metadata": {},
   "outputs": [
    {
     "name": "stderr",
     "output_type": "stream",
     "text": [
      "[nltk_data] Downloading package punkt to nltk_data...\n",
      "[nltk_data]   Package punkt is already up-to-date!\n"
     ]
    },
    {
     "data": {
      "text/plain": [
       "True"
      ]
     },
     "execution_count": 2,
     "metadata": {},
     "output_type": "execute_result"
    }
   ],
   "source": [
    "nltk.download(\"punkt\", download_dir=\"nltk_data\")"
   ]
  },
  {
   "cell_type": "code",
   "execution_count": 3,
   "id": "b05ef564",
   "metadata": {},
   "outputs": [],
   "source": [
    "def loadAndStandardize(path):\n",
    "    with open(path, encoding=\"utf-8\") as file:\n",
    "        return [re.sub(r\"[^\\w\\s]\", \"\", line.lower()) for line in file if line.strip()]\n",
    "\n",
    "comments = loadAndStandardize(\"data/escher_comments.txt\")"
   ]
  },
  {
   "cell_type": "markdown",
   "id": "da5e6962",
   "metadata": {},
   "source": [
    "-> se decidió estandarizar el corpus para facilitar los procesos posteriores de tokenización, comparación y análisis. la estandarización aplicada incluye conversión a minúsculas y eliminación de signos de puntuación."
   ]
  },
  {
   "cell_type": "code",
   "execution_count": 4,
   "id": "10fa8bc5",
   "metadata": {},
   "outputs": [],
   "source": [
    "def trainBpe(comments):\n",
    "    tokenizer = Tokenizer(models.BPE())\n",
    "    tokenizer.pre_tokenizer = pre_tokenizers.Whitespace()\n",
    "    trainer = trainers.BpeTrainer(special_tokens=[\"[PAD]\", \"[UNK]\"])\n",
    "    tokenizer.train_from_iterator(comments, trainer)\n",
    "    return tokenizer"
   ]
  },
  {
   "cell_type": "code",
   "execution_count": 5,
   "id": "bf142f68",
   "metadata": {},
   "outputs": [
    {
     "data": {
      "text/plain": [
       "['es', 'una', 'esfera', 'que', 'refleja']"
      ]
     },
     "execution_count": 5,
     "metadata": {},
     "output_type": "execute_result"
    }
   ],
   "source": [
    "bpeTokenizer = trainBpe(comments)\n",
    "bpeTokenizer.encode(\"es una esfera que refleja\").tokens"
   ]
  },
  {
   "cell_type": "markdown",
   "id": "b161c703",
   "metadata": {},
   "source": [
    "-> se utilizó la librería `tokenizers` para entrenar un modelo BPE con los tokens especiales `[PAD]` y `[UNK]`. el token `[PAD]` permite igualar la longitud de las secuencias y `[UNK]` se usa para palabras desconocidas."
   ]
  },
  {
   "cell_type": "code",
   "execution_count": 6,
   "id": "8d693135",
   "metadata": {},
   "outputs": [],
   "source": [
    "def trainWordPiece(comments):\n",
    "    tokenizer = Tokenizer(models.WordPiece(unk_token=\"[UNK]\"))\n",
    "    tokenizer.pre_tokenizer = pre_tokenizers.Whitespace()\n",
    "    trainer = trainers.WordPieceTrainer(special_tokens=[\"[PAD]\", \"[UNK]\"])\n",
    "    tokenizer.train_from_iterator(comments, trainer)\n",
    "    return tokenizer\n",
    "\n",
    "def trainSentencePiece(comments):\n",
    "    tokenizer = Tokenizer(models.Unigram())\n",
    "    tokenizer.pre_tokenizer = pre_tokenizers.Whitespace()\n",
    "    trainer = trainers.UnigramTrainer()\n",
    "    tokenizer.train_from_iterator(comments, trainer)\n",
    "    return tokenizer"
   ]
  },
  {
   "cell_type": "code",
   "execution_count": 7,
   "metadata": {},
   "outputs": [],
   "source": [
    "wordPieceTokenizer = trainWordPiece(comments)\n",
    "sentencePieceTokenizer = trainSentencePiece(comments)"
   ]
  },
  {
   "cell_type": "code",
   "execution_count": 8,
   "id": "b3cc060c",
   "metadata": {},
   "outputs": [
    {
     "data": {
      "text/plain": [
       "['es', 'un', 'a', 'es', 'fe', 'ra', 'que', 'refleja']"
      ]
     },
     "execution_count": 8,
     "metadata": {},
     "output_type": "execute_result"
    }
   ],
   "source": [
    "wordPieceTokenizer.encode(\"es una esfera que refleja\").tokens\n",
    "sentencePieceTokenizer.encode(\"es una esfera que refleja\").tokens"
   ]
  },
  {
   "cell_type": "markdown",
   "id": "c6bae82c",
   "metadata": {},
   "source": [
    "-> se entrenaron tres modelos: BPE, WordPiece y SentencePiece. todos dividen palabras en subunidades, pero lo hacen con algoritmos distintos. SentencePiece tiende a generar más fragmentos pequeños. la comparación se hizo con la misma frase para observar diferencias."
   ]
  },
  {
   "cell_type": "code",
   "execution_count": 9,
   "id": "15c99f05",
   "metadata": {},
   "outputs": [],
   "source": [
    "def stemText(text):\n",
    "    stemmer = SnowballStemmer(\"spanish\")\n",
    "    tokens = word_tokenize(text, preserve_line=True)\n",
    "    return [stemmer.stem(token) for token in tokens]"
   ]
  },
  {
   "cell_type": "code",
   "execution_count": 10,
   "id": "b9993bc4",
   "metadata": {},
   "outputs": [
    {
     "data": {
      "text/plain": [
       "('veo a un hombre explorando su propia percepción al sostener la esfera no solo contempla su reflejo sino que atrapa todo su entorno en un instante de autorreflexión y asombro\\n',\n",
       " ['veo',\n",
       "  'a',\n",
       "  'un',\n",
       "  'hombr',\n",
       "  'explor',\n",
       "  'su',\n",
       "  'propi',\n",
       "  'percepcion',\n",
       "  'al',\n",
       "  'sosten',\n",
       "  'la',\n",
       "  'esfer',\n",
       "  'no',\n",
       "  'sol',\n",
       "  'contempl',\n",
       "  'su',\n",
       "  'reflej',\n",
       "  'sin',\n",
       "  'que',\n",
       "  'atrap',\n",
       "  'tod',\n",
       "  'su',\n",
       "  'entorn',\n",
       "  'en',\n",
       "  'un',\n",
       "  'instant',\n",
       "  'de',\n",
       "  'autorreflexion',\n",
       "  'y',\n",
       "  'asombr'])"
      ]
     },
     "execution_count": 10,
     "metadata": {},
     "output_type": "execute_result"
    }
   ],
   "source": [
    "originalText = comments[0]\n",
    "stemmedText = stemText(originalText)\n",
    "originalText, stemmedText"
   ]
  },
  {
   "cell_type": "markdown",
   "id": "78d342d7",
   "metadata": {},
   "source": [
    "-> se utilizó el Snowball Stemmer de NLTK para aplicar stemming en español. este proceso reduce las palabras a su raíz, lo que puede causar pérdida de información semántica, ya que se eliminan variaciones importantes de las palabras."
   ]
  },
  {
   "cell_type": "code",
   "execution_count": 11,
   "id": "dd96c616",
   "metadata": {},
   "outputs": [],
   "source": [
    "def computeEditDistanceMatrix(lines):\n",
    "    size = len(lines)\n",
    "    matrix = np.zeros((size, size))\n",
    "    for i in range(size):\n",
    "        for j in range(size):\n",
    "            matrix[i][j] = edit_distance(lines[i], lines[j])\n",
    "    return matrix"
   ]
  },
  {
   "cell_type": "code",
   "execution_count": 12,
   "id": "9cb752f5",
   "metadata": {},
   "outputs": [],
   "source": [
    "similarityMatrix = computeEditDistanceMatrix(comments)"
   ]
  },
  {
   "cell_type": "markdown",
   "id": "219c8041",
   "metadata": {},
   "source": [
    "-> se construyó una matriz de similitud utilizando la distancia de Levenshtein y se aplicó agrupamiento jerárquico para identificar patrones. los resultados se muestran en un mapa de calor y se interpretan los clústeres a continuación."
   ]
  },
  {
   "cell_type": "code",
   "execution_count": 13,
   "id": "6f7e00dc",
   "metadata": {},
   "outputs": [
    {
     "data": {
      "image/png": "[encoded data removed]",
      "text/plain": [
       "<Figure size 640x480 with 2 Axes>"
      ]
     },
     "metadata": {},
     "output_type": "display_data"
    }
   ],
   "source": [
    "sns.heatmap(similarityMatrix)\n",
    "plt.title(\"Levenshtein distance matrix\")\n",
    "plt.show()"
   ]
  },
  {
   "cell_type": "code",
   "execution_count": 14,
   "id": "49d0cc6a",
   "metadata": {},
   "outputs": [
    {
     "data": {
      "text/plain": [
       "array([0, 0, 0, 0, 0, 3, 1, 0, 0, 0, 0, 0, 0, 0, 0, 0, 2, 0, 0, 0, 0],\n",
       "      dtype=int64)"
      ]
     },
     "execution_count": 14,
     "metadata": {},
     "output_type": "execute_result"
    }
   ],
   "source": [
    "clustering = AgglomerativeClustering(n_clusters=4, metric=\"precomputed\", linkage=\"average\")\n",
    "clusterLabels = clustering.fit_predict(similarityMatrix)\n",
    "clusterLabels"
   ]
  },
  {
   "cell_type": "code",
   "execution_count": 15,
   "id": "9e5159db",
   "metadata": {},
   "outputs": [
    {
     "name": "stdout",
     "output_type": "stream",
     "text": [
      "\n",
      "--- Cluster 0 ---\n",
      "[0] veo a un hombre explorando su propia percepción al sostener la esfera no solo contempla su reflejo sino que atrapa todo su entorno en un instante de autorreflexión y asombro\n",
      "\n",
      "[1] mediante una esfera se refleja la escena y a un hombre que se observa así mismo en el espejo con una sensación de reflexión sobre sí mismo y su alrededor\n",
      "\n",
      "[2] observo un nombre que sostiene una esfera en la que puede ver su reflejo y el del entorno me evoca un sentimiento de introspección y reflexión personal\n",
      "\n",
      "[3] me da la sensación de que es la representación del sentimiento de realization es el sentimiento que me provoca muchas veces el reflejo va más allá\n",
      "\n",
      "[4] veo un entendimiento de perspectiva reflejo y representación de la luz a nivel más analítico veo a un hombre observándose a sí mismo analizando el reflejo de su persona\n",
      "\n",
      "[7] veo el reflejo de un hombre que sostiene una esfera reflectante entonces podemos observar su habitación con libros muebles etc se ve la distorsión que provoca el efecto\n",
      "\n",
      "[8] en la imagen se ve una mano sosteniendo una esfera reflectante que muestra el reflejo de una habitación y un hombre sentado que parece ser el propio artista que observa directamente al espectador\n",
      "\n",
      "[9] un hombre sosteniendo una bola de cristal que lo refleja a él mismo en otro entorno actuando como un espejo o un túnel que muestra lo que él está visualizando\n",
      "\n",
      "[10] se ve un señor en un estudio sosteniendo una esfera pulida la cual refleja toda la luz de la escena\n",
      "\n",
      "[11] veo al autor reflejándose atreves de un bola de cristal es un anciano con pintas de ser muy sabio la habitación es como el estudio de un psicólogo porque tiene muchos libros y un sillón como en el que suelen atender a la gente\n",
      "\n",
      "[12] veo una mano sosteniendo una esfera que muestra el reflejo del hombre que la sostiene dentro de una habitación como especie de sala\n",
      "\n",
      "[13] un hombre que sostiene una esfera de cristal la esfera refleja todo el contenido de la habitación\n",
      "\n",
      "[14] veo a un hombre que observa su reflejo a través de una esfera percibo que es como un auto reflejo más allá de lo superficial y ver más adentro de nosotros también siento que es la forma de observar nuestro alrededor nosotros estando en el y lo que contribuimos al ambiente\n",
      "\n",
      "[15] se trata de la representación del reflejo de un hombre en una esfera reflectante que este sostiene desde su punto de vista causa cierta curiosidad el ver una perspectiva que no es comúnmente representada en pinturas\n",
      "\n",
      "[17] veo al autor de la pintura verse reflejado en una esfera donde podemos observar cómo está ordenada la habitación puedo ver que tiene varios libros algunos muebles y una ventana\n",
      "\n",
      "[18] una ilustración de un hombre que sostiene una pelota que refleja su propia imagen\n",
      "\n",
      "[19] un autoretrato de forma creativa ya que no es un simple dibujo del autor sino que es el reflejo de él me agrada que tome en cuenta los detalles tanto del reflejo como de la mano que sujeta la esfera\n",
      "\n",
      "[20] es un hombre que toma con sus manos una esfera reflectante y con ello se ve su reflejo y su alrededor\n",
      "\n",
      "\n",
      "--- Cluster 1 ---\n",
      "[6] en la imagen se ve una mano sosteniendo una esfera que refleja todo lo que hay alrededor dentro del reflejo aparece un hombre sentado que parece estar viendo hacia quien observa la imagen también se puede ver una habitación con libros muebles y una ventana todo se ve algo curvado\n",
      "\n",
      "\n",
      "--- Cluster 2 ---\n",
      "[16] prácticamente es un reflejo de sí mismo es decir la persona que sostiene la esfera siempre se va a terminar viendo a sí misma sea la perspectiva que sea si bien se ve más grande o más pequeño siempre se ve a sí mismo además está solo en el cuarto lo que podría reflejar algún momento de instrospección incluyendo que está en un cuarto de lo que parece ser lectura\n",
      "\n",
      "\n",
      "--- Cluster 3 ---\n",
      "[5] vemos una mano en la que se sostiene una esfera de un material reflejante dando la ilusión de que lo único presenta en la esfera está detrás pero la percepción es muy subjetiva los objetos se ven distorsionados por la naturaleza de la forma del objeto pero probablemente no estén así una pintura que invita a la reflexión de si lo que vemos es en verdad lo que está ahí\n",
      "\n"
     ]
    }
   ],
   "source": [
    "for clusterId in sorted(set(clusterLabels)):\n",
    "    print(f\"\\n--- Cluster {clusterId} ---\")\n",
    "    for i, label in enumerate(clusterLabels):\n",
    "        if label == clusterId:\n",
    "            print(f\"[{i}] {comments[i]}\")\n"
   ]
  },
  {
   "cell_type": "markdown",
   "id": "d2ac0796",
   "metadata": {},
   "source": [
    "### Clúster 0\n",
    "Comentarios descriptivos y reflexivos. Enfocados en el autor, la introspección, el entorno y la representación visual.\n",
    "\n",
    "### Clúster 1\n",
    "Un comentario que describe con detalle visual la habitación y la curvatura en el reflejo.\n",
    "\n",
    "### Clúster 2\n",
    "Un comentario centrado en la idea del reflejo inevitable de uno mismo y el momento de introspección.\n",
    "\n",
    "### Clúster 3\n",
    "Comentario que analiza la percepción subjetiva y las ilusiones provocadas por la forma de la esfera."
   ]
  },
  {
   "cell_type": "markdown",
   "id": "c56390f7",
   "metadata": {},
   "source": [
    "## ¿Qué nos dice esto?\n",
    "\n",
    "El mapa de calor muestra qué comentarios se parecen más entre sí. Las partes oscuras indican que usan palabras similares. Al agruparlos, se encontraron temas comunes. Algunos hablan de reflexión personal, otros describen lo que se ve en la imagen. Esto ayuda a ver cómo las ideas se organizan por el tipo de respuesta."
   ]
  }
 ],
 "metadata": {
  "kernelspec": {
   "display_name": "myenv",
   "language": "python",
   "name": "myenv"
  },
  "language_info": {
   "codemirror_mode": {
    "name": "ipython",
    "version": 3
   },
   "file_extension": ".py",
   "mimetype": "text/x-python",
   "name": "python",
   "nbconvert_exporter": "python",
   "pygments_lexer": "ipython3",
   "version": "3.9.13"
  }
 },
 "nbformat": 4,
 "nbformat_minor": 5
}
